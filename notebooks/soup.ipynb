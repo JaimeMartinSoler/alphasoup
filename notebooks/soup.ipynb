{
 "cells": [
  {
   "cell_type": "markdown",
   "id": "bc6ee59b-ae16-4a3e-bbf3-8d1ed61c273a",
   "metadata": {},
   "source": [
    "# WORKDIR"
   ]
  },
  {
   "cell_type": "code",
   "execution_count": 1,
   "id": "3b717659-4095-451c-ae8c-1ae8d848f6f9",
   "metadata": {},
   "outputs": [],
   "source": [
    "import os\n",
    "import re\n",
    "\n",
    "PATH_CURRENT = os.getcwd()\n",
    "DIR_NOTEBOOKS = 'notebooks'\n",
    "PATH_ROOT = re.sub(fr\"{DIR_NOTEBOOKS}.*\", \"\", PATH_CURRENT)\n",
    "PATH_SRC = f\"{PATH_ROOT}src\""
   ]
  },
  {
   "cell_type": "code",
   "execution_count": 2,
   "id": "7538a6f9-d5c5-4e53-9c25-948cf980edab",
   "metadata": {},
   "outputs": [
    {
     "name": "stdout",
     "output_type": "stream",
     "text": [
      "/home/jaime-martin-soler/Documents/personal/repo/alphasoup/src\n"
     ]
    }
   ],
   "source": [
    "cd {PATH_SRC}"
   ]
  },
  {
   "cell_type": "markdown",
   "id": "b5b91145-f594-4d0c-a33a-0381fee1879b",
   "metadata": {},
   "source": [
    "# IMPORTS"
   ]
  },
  {
   "cell_type": "code",
   "execution_count": 3,
   "id": "7d15f4ed-7dbd-49fd-a7d6-a9148c3cb13f",
   "metadata": {},
   "outputs": [
    {
     "data": {
      "text/plain": [
       "<RootLogger root (INFO)>"
      ]
     },
     "execution_count": 3,
     "metadata": {},
     "output_type": "execute_result"
    }
   ],
   "source": [
    "import logging\n",
    "import numpy as np\n",
    "import random\n",
    "\n",
    "from alphasoup import AlphaSoupBuilder\n",
    "from page_html import PageHTML\n",
    "\n",
    "from utils.config_loader import CONFIG\n",
    "from utils.logger_builder import build_logger\n",
    "from utils.path_utils import get_fullpath_from_root\n",
    "\n",
    "build_logger(log_level=logging.INFO)"
   ]
  },
  {
   "cell_type": "markdown",
   "id": "0910ea1f-3fcc-4838-bb43-af201710b984",
   "metadata": {},
   "source": [
    "# HTML TO PDF"
   ]
  },
  {
   "cell_type": "code",
   "execution_count": 4,
   "id": "85807ebc-ecfb-4821-98ae-212a961188b1",
   "metadata": {
    "tags": []
   },
   "outputs": [
    {
     "name": "stdout",
     "output_type": "stream",
     "text": [
      "[2023-01-02 19:06:27,798] [INFO] [096cf68d] alphasoup._insert_words_into_soup[#112]: inserted word 'ABUELO' from [1][6], way: S\n",
      "[2023-01-02 19:06:27,801] [INFO] [096cf68d] alphasoup._insert_words_into_soup[#112]: inserted word 'ABUELA' from [1][5], way: S\n",
      "[2023-01-02 19:06:27,802] [INFO] [096cf68d] alphasoup._insert_words_into_soup[#112]: inserted word 'JESUS' from [5][2], way: SE\n",
      "[2023-01-02 19:06:27,803] [INFO] [096cf68d] alphasoup._insert_words_into_soup[#112]: inserted word 'CARLOSTIO' from [9][1], way: E\n",
      "[2023-01-02 19:06:27,804] [INFO] [096cf68d] alphasoup._insert_words_into_soup[#112]: inserted word 'MAMEN' from [4][2], way: SE\n",
      "[2023-01-02 19:06:27,805] [INFO] [096cf68d] alphasoup._insert_words_into_soup[#112]: inserted word 'JAIME' from [1][0], way: SE\n",
      "[2023-01-02 19:06:27,805] [INFO] [096cf68d] alphasoup._insert_words_into_soup[#112]: inserted word 'RAQUEL' from [0][7], way: S\n",
      "[2023-01-02 19:06:27,806] [INFO] [096cf68d] alphasoup._insert_words_into_soup[#112]: inserted word 'CARLOS' from [2][2], way: SE\n",
      "[2023-01-02 19:06:27,807] [INFO] [096cf68d] alphasoup._insert_words_into_soup[#112]: inserted word 'EDU' from [4][9], way: S\n",
      "[2023-01-02 19:06:27,811] [INFO] [096cf68d] page_html._get_tbody_words[#111]: word_list_chunks: [['ABUELO', 'ABUELA', 'JESUS', 'CARLOSTIO', 'MAMEN'], ['JAIME', 'RAQUEL', 'CARLOS', 'EDU']]\n"
     ]
    }
   ],
   "source": [
    "\n",
    "page_idx = 0\n",
    "page = CONFIG['pages'][page_idx]\n",
    "\n",
    "config_alphasoup = page['alphasoup']\n",
    "alphasoup = AlphaSoupBuilder.build(config_alphasoup)\n",
    "\n",
    "\n",
    "config_html = page['html']\n",
    "dir_rel_page_input = 'templates/page'\n",
    "dir_rel_common_input = 'templates/common'\n",
    "dir_rel_page_output = 'output/page'\n",
    "dir_rel_common_output = 'output/common'\n",
    "page_html = PageHTML(alphasoup, config_html, page_idx + 1,\n",
    "                     dir_rel_page_input, dir_rel_common_input, dir_rel_page_output, dir_rel_common_output)\n",
    "page_html.build_page_html()"
   ]
  },
  {
   "cell_type": "code",
   "execution_count": 5,
   "id": "f04fd883-5a15-470a-bb9a-98156629cf83",
   "metadata": {},
   "outputs": [
    {
     "data": {
      "text/plain": [
       "[['B', 'R', 'C', 'C', 'O', 'F', 'R', 'R', 'R', 'U'],\n",
       " ['J', 'C', 'R', 'C', 'A', 'A', 'A', 'A', 'C', 'Z'],\n",
       " ['C', 'A', 'C', 'C', 'A', 'B', 'B', 'Q', 'C', 'S'],\n",
       " ['R', 'A', 'I', 'A', 'A', 'U', 'U', 'U', 'Q', 'R'],\n",
       " ['C', 'C', 'M', 'M', 'R', 'E', 'E', 'E', 'I', 'E'],\n",
       " ['C', 'A', 'J', 'A', 'E', 'L', 'L', 'L', 'M', 'D'],\n",
       " ['S', 'Ñ', 'R', 'E', 'M', 'A', 'O', 'C', 'C', 'U'],\n",
       " ['Ñ', 'E', 'B', 'L', 'S', 'E', 'G', 'S', 'V', 'G'],\n",
       " ['Y', 'D', 'A', 'R', 'O', 'U', 'N', 'R', 'X', 'F'],\n",
       " ['T', 'C', 'A', 'R', 'L', 'O', 'S', 'T', 'I', 'O']]"
      ]
     },
     "execution_count": 5,
     "metadata": {},
     "output_type": "execute_result"
    }
   ],
   "source": [
    "alphasoup._soup"
   ]
  },
  {
   "cell_type": "code",
   "execution_count": 6,
   "id": "2b0b18d5-272b-4026-b092-94f2c6afcc00",
   "metadata": {},
   "outputs": [
    {
     "name": "stdout",
     "output_type": "stream",
     "text": [
      "[9][6]\n",
      "[5][5]\n",
      "[6][6]\n"
     ]
    }
   ],
   "source": [
    "for s in alphasoup._stats_positions_word_cross:\n",
    "    print(s)"
   ]
  },
  {
   "cell_type": "markdown",
   "id": "60e2dde6-cc00-444d-96dc-173f0c6a5535",
   "metadata": {},
   "source": [
    "# TEST"
   ]
  },
  {
   "cell_type": "code",
   "execution_count": 9,
   "id": "b9cbc351-7ab0-4db7-b631-4e53286e28fd",
   "metadata": {
    "tags": []
   },
   "outputs": [
    {
     "data": {
      "text/plain": [
       "True"
      ]
     },
     "execution_count": 9,
     "metadata": {},
     "output_type": "execute_result"
    }
   ],
   "source": [
    "import pdfkit\n",
    "\n",
    "path_input = get_fullpath_from_root('output/html/template.html')\n",
    "path_output = get_fullpath_from_root('output/pdf/template.pdf')\n",
    "\n",
    "options = {\n",
    "    'page-size': 'A5',\n",
    "    'margin-top': '0.25in',\n",
    "    'margin-right': '0.25in',\n",
    "    'margin-bottom': '0.10in',\n",
    "    'margin-left': '0.25in',\n",
    "    'encoding': 'UTF-8',\n",
    "    'no-outline': None\n",
    "}\n",
    "\n",
    "# https://apitemplate.io/blog/a-guide-to-generate-pdfs-in-python/\n",
    "pdfkit.from_file(path_input, path_output, options=options)"
   ]
  },
  {
   "cell_type": "code",
   "execution_count": 12,
   "id": "62de065b-dc69-400d-8d6d-1fa379aaa35b",
   "metadata": {},
   "outputs": [
    {
     "ename": "OSError",
     "evalue": "wkhtmltopdf exited with non-zero code 1. error:\nExit with code 1, due to unknown error.\n",
     "output_type": "error",
     "traceback": [
      "\u001b[0;31m---------------------------------------------------------------------------\u001b[0m",
      "\u001b[0;31mOSError\u001b[0m                                   Traceback (most recent call last)",
      "Cell \u001b[0;32mIn[12], line 14\u001b[0m\n\u001b[1;32m     11\u001b[0m path_output2 \u001b[38;5;241m=\u001b[39m get_fullpath_from_root(\u001b[38;5;124m'\u001b[39m\u001b[38;5;124moutput/pdf/template2.pdf\u001b[39m\u001b[38;5;124m'\u001b[39m)\n\u001b[1;32m     13\u001b[0m \u001b[38;5;66;03m# https://apitemplate.io/blog/a-guide-to-generate-pdfs-in-python/\u001b[39;00m\n\u001b[0;32m---> 14\u001b[0m \u001b[43mpdfkit\u001b[49m\u001b[38;5;241;43m.\u001b[39;49m\u001b[43mfrom_file\u001b[49m\u001b[43m(\u001b[49m\u001b[43m[\u001b[49m\u001b[43mpath_output\u001b[49m\u001b[43m,\u001b[49m\u001b[43m \u001b[49m\u001b[43mpath_output\u001b[49m\u001b[43m]\u001b[49m\u001b[43m,\u001b[49m\u001b[43m \u001b[49m\u001b[43mpath_output2\u001b[49m\u001b[43m,\u001b[49m\u001b[43m \u001b[49m\u001b[43moptions\u001b[49m\u001b[38;5;241;43m=\u001b[39;49m\u001b[43moptions2\u001b[49m\u001b[43m)\u001b[49m\n",
      "File \u001b[0;32m~/anaconda3/envs/alphasoup/lib/python3.10/site-packages/pdfkit/api.py:51\u001b[0m, in \u001b[0;36mfrom_file\u001b[0;34m(input, output_path, options, toc, cover, css, configuration, cover_first, verbose)\u001b[0m\n\u001b[1;32m     32\u001b[0m \u001b[38;5;124;03m\"\"\"\u001b[39;00m\n\u001b[1;32m     33\u001b[0m \u001b[38;5;124;03mConvert HTML file or files to PDF document\u001b[39;00m\n\u001b[1;32m     34\u001b[0m \n\u001b[0;32m   (...)\u001b[0m\n\u001b[1;32m     45\u001b[0m \u001b[38;5;124;03mReturns: True on success\u001b[39;00m\n\u001b[1;32m     46\u001b[0m \u001b[38;5;124;03m\"\"\"\u001b[39;00m\n\u001b[1;32m     48\u001b[0m r \u001b[38;5;241m=\u001b[39m PDFKit(\u001b[38;5;28minput\u001b[39m, \u001b[38;5;124m'\u001b[39m\u001b[38;5;124mfile\u001b[39m\u001b[38;5;124m'\u001b[39m, options\u001b[38;5;241m=\u001b[39moptions, toc\u001b[38;5;241m=\u001b[39mtoc, cover\u001b[38;5;241m=\u001b[39mcover, css\u001b[38;5;241m=\u001b[39mcss,\n\u001b[1;32m     49\u001b[0m            configuration\u001b[38;5;241m=\u001b[39mconfiguration, cover_first\u001b[38;5;241m=\u001b[39mcover_first, verbose\u001b[38;5;241m=\u001b[39mverbose)\n\u001b[0;32m---> 51\u001b[0m \u001b[38;5;28;01mreturn\u001b[39;00m \u001b[43mr\u001b[49m\u001b[38;5;241;43m.\u001b[39;49m\u001b[43mto_pdf\u001b[49m\u001b[43m(\u001b[49m\u001b[43moutput_path\u001b[49m\u001b[43m)\u001b[49m\n",
      "File \u001b[0;32m~/anaconda3/envs/alphasoup/lib/python3.10/site-packages/pdfkit/pdfkit.py:201\u001b[0m, in \u001b[0;36mPDFKit.to_pdf\u001b[0;34m(self, path)\u001b[0m\n\u001b[1;32m    199\u001b[0m stderr \u001b[38;5;241m=\u001b[39m stderr\u001b[38;5;241m.\u001b[39mdecode(\u001b[38;5;124m'\u001b[39m\u001b[38;5;124mutf-8\u001b[39m\u001b[38;5;124m'\u001b[39m, errors\u001b[38;5;241m=\u001b[39m\u001b[38;5;124m'\u001b[39m\u001b[38;5;124mreplace\u001b[39m\u001b[38;5;124m'\u001b[39m)\n\u001b[1;32m    200\u001b[0m exit_code \u001b[38;5;241m=\u001b[39m result\u001b[38;5;241m.\u001b[39mreturncode\n\u001b[0;32m--> 201\u001b[0m \u001b[38;5;28;43mself\u001b[39;49m\u001b[38;5;241;43m.\u001b[39;49m\u001b[43mhandle_error\u001b[49m\u001b[43m(\u001b[49m\u001b[43mexit_code\u001b[49m\u001b[43m,\u001b[49m\u001b[43m \u001b[49m\u001b[43mstderr\u001b[49m\u001b[43m)\u001b[49m\n\u001b[1;32m    203\u001b[0m \u001b[38;5;66;03m# Since wkhtmltopdf sends its output to stderr we will capture it\u001b[39;00m\n\u001b[1;32m    204\u001b[0m \u001b[38;5;66;03m# and properly send to stdout\u001b[39;00m\n\u001b[1;32m    205\u001b[0m \u001b[38;5;28;01mif\u001b[39;00m \u001b[38;5;124m'\u001b[39m\u001b[38;5;124m--quiet\u001b[39m\u001b[38;5;124m'\u001b[39m \u001b[38;5;129;01mnot\u001b[39;00m \u001b[38;5;129;01min\u001b[39;00m args:\n",
      "File \u001b[0;32m~/anaconda3/envs/alphasoup/lib/python3.10/site-packages/pdfkit/pdfkit.py:158\u001b[0m, in \u001b[0;36mPDFKit.handle_error\u001b[0;34m(exit_code, stderr)\u001b[0m\n\u001b[1;32m    155\u001b[0m     \u001b[38;5;28;01mraise\u001b[39;00m \u001b[38;5;167;01mIOError\u001b[39;00m(\u001b[38;5;124m'\u001b[39m\u001b[38;5;124mwkhtmltopdf reported an error:\u001b[39m\u001b[38;5;130;01m\\n\u001b[39;00m\u001b[38;5;124m'\u001b[39m \u001b[38;5;241m+\u001b[39m stderr)\n\u001b[1;32m    157\u001b[0m error_msg \u001b[38;5;241m=\u001b[39m stderr \u001b[38;5;129;01mor\u001b[39;00m \u001b[38;5;124m'\u001b[39m\u001b[38;5;124mUnknown Error\u001b[39m\u001b[38;5;124m'\u001b[39m\n\u001b[0;32m--> 158\u001b[0m \u001b[38;5;28;01mraise\u001b[39;00m \u001b[38;5;167;01mIOError\u001b[39;00m(\u001b[38;5;124m\"\u001b[39m\u001b[38;5;124mwkhtmltopdf exited with non-zero code \u001b[39m\u001b[38;5;132;01m{0}\u001b[39;00m\u001b[38;5;124m. error:\u001b[39m\u001b[38;5;130;01m\\n\u001b[39;00m\u001b[38;5;132;01m{1}\u001b[39;00m\u001b[38;5;124m\"\u001b[39m\u001b[38;5;241m.\u001b[39mformat(exit_code, error_msg))\n",
      "\u001b[0;31mOSError\u001b[0m: wkhtmltopdf exited with non-zero code 1. error:\nExit with code 1, due to unknown error.\n"
     ]
    }
   ],
   "source": [
    "\n",
    "options2 = {\n",
    "    'page-size': 'A4',\n",
    "    'orientation': 'Landscape',\n",
    "    'margin-top': '0.0in',\n",
    "    'margin-right': '0.0in',\n",
    "    'margin-bottom': '0.0in',\n",
    "    'margin-left': '0.0in',\n",
    "    'encoding': 'UTF-8'\n",
    "}\n",
    "\n",
    "path_output2 = get_fullpath_from_root('output/pdf/template2.pdf')\n",
    "\n",
    "# https://apitemplate.io/blog/a-guide-to-generate-pdfs-in-python/\n",
    "pdfkit.from_file([path_output, path_output], path_output2, options=options2)"
   ]
  },
  {
   "cell_type": "code",
   "execution_count": null,
   "id": "a846ef8c-8807-4e17-b20b-f93c39fe152d",
   "metadata": {},
   "outputs": [],
   "source": [
    "# https://stackoverflow.com/questions/4087029/merging-two-a5-pages-into-a-singe-a4-page-without-using-pdfnup\n",
    "pdftk A=A5-1.pdf B=A5-2.pdf cat A1 B1 output - \\\n",
    "| pdf2ps -dLanguageLevel=3 - - \\\n",
    "| psnup -2 -Pa5 -pa4 \\\n",
    "| ps2pdf -dCompatibility=1.4 - A4.pdf\n"
   ]
  }
 ],
 "metadata": {
  "kernelspec": {
   "display_name": "Python 3 (ipykernel)",
   "language": "python",
   "name": "python3"
  },
  "language_info": {
   "codemirror_mode": {
    "name": "ipython",
    "version": 3
   },
   "file_extension": ".py",
   "mimetype": "text/x-python",
   "name": "python",
   "nbconvert_exporter": "python",
   "pygments_lexer": "ipython3",
   "version": "3.10.8"
  }
 },
 "nbformat": 4,
 "nbformat_minor": 5
}
